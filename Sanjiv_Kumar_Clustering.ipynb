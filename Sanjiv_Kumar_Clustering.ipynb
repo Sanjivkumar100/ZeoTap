{
  "nbformat": 4,
  "nbformat_minor": 0,
  "metadata": {
    "colab": {
      "provenance": [],
      "authorship_tag": "ABX9TyN09ZvHE5eQt60t/Bafklpe",
      "include_colab_link": true
    },
    "kernelspec": {
      "name": "python3",
      "display_name": "Python 3"
    },
    "language_info": {
      "name": "python"
    }
  },
  "cells": [
    {
      "cell_type": "markdown",
      "metadata": {
        "id": "view-in-github",
        "colab_type": "text"
      },
      "source": [
        "<a href=\"https://colab.research.google.com/github/Sanjivkumar100/ZeoTap/blob/main/Sanjiv_Kumar_Clustering.ipynb\" target=\"_parent\"><img src=\"https://colab.research.google.com/assets/colab-badge.svg\" alt=\"Open In Colab\"/></a>"
      ]
    },
    {
      "cell_type": "code",
      "execution_count": 11,
      "metadata": {
        "id": "5nBHSW3a7ecq"
      },
      "outputs": [],
      "source": [
        "import pandas as pd\n",
        "customers = pd.read_csv('Customers.csv')\n",
        "transactions= pd.read_csv('Transactions.csv')"
      ]
    },
    {
      "cell_type": "code",
      "source": [
        "transactionssummary=transactions.groupby('CustomerID').agg({'ProductID':'nunique','TotalValue':'sum','TransactionID':'count'}).reset_index()\n",
        "transactionssummary.rename(columns={'ProductID':'UniqueProducts','TotalValue':'TotalSpend','TransactionID':'TransactionCounts'},inplace=True)\n",
        "customers=pd.merge(customers,transactionssummary,on='CustomerID',how='left')"
      ],
      "metadata": {
        "id": "tvzlV6al7o17"
      },
      "execution_count": 12,
      "outputs": []
    },
    {
      "cell_type": "code",
      "source": [
        "customers.fillna({\n",
        "    \"TotalSpend\": 0,\n",
        "    \"TransactionCount\": 0,\n",
        "    \"UniqueProducts\": 0\n",
        "}, inplace=True)"
      ],
      "metadata": {
        "id": "5v60ZUOu7tso"
      },
      "execution_count": 13,
      "outputs": []
    },
    {
      "cell_type": "code",
      "source": [
        "customers.isna().sum()"
      ],
      "metadata": {
        "colab": {
          "base_uri": "https://localhost:8080/",
          "height": 303
        },
        "id": "-0gRYu9g8AmV",
        "outputId": "e05f92ad-dcee-472b-cb8a-b6c6fedd04d8"
      },
      "execution_count": 4,
      "outputs": [
        {
          "output_type": "execute_result",
          "data": {
            "text/plain": [
              "CustomerID           0\n",
              "CustomerName         0\n",
              "Region               0\n",
              "SignupDate           0\n",
              "UniqueProducts       0\n",
              "TotalSpend           0\n",
              "TransactionCounts    1\n",
              "dtype: int64"
            ],
            "text/html": [
              "<div>\n",
              "<style scoped>\n",
              "    .dataframe tbody tr th:only-of-type {\n",
              "        vertical-align: middle;\n",
              "    }\n",
              "\n",
              "    .dataframe tbody tr th {\n",
              "        vertical-align: top;\n",
              "    }\n",
              "\n",
              "    .dataframe thead th {\n",
              "        text-align: right;\n",
              "    }\n",
              "</style>\n",
              "<table border=\"1\" class=\"dataframe\">\n",
              "  <thead>\n",
              "    <tr style=\"text-align: right;\">\n",
              "      <th></th>\n",
              "      <th>0</th>\n",
              "    </tr>\n",
              "  </thead>\n",
              "  <tbody>\n",
              "    <tr>\n",
              "      <th>CustomerID</th>\n",
              "      <td>0</td>\n",
              "    </tr>\n",
              "    <tr>\n",
              "      <th>CustomerName</th>\n",
              "      <td>0</td>\n",
              "    </tr>\n",
              "    <tr>\n",
              "      <th>Region</th>\n",
              "      <td>0</td>\n",
              "    </tr>\n",
              "    <tr>\n",
              "      <th>SignupDate</th>\n",
              "      <td>0</td>\n",
              "    </tr>\n",
              "    <tr>\n",
              "      <th>UniqueProducts</th>\n",
              "      <td>0</td>\n",
              "    </tr>\n",
              "    <tr>\n",
              "      <th>TotalSpend</th>\n",
              "      <td>0</td>\n",
              "    </tr>\n",
              "    <tr>\n",
              "      <th>TransactionCounts</th>\n",
              "      <td>1</td>\n",
              "    </tr>\n",
              "  </tbody>\n",
              "</table>\n",
              "</div><br><label><b>dtype:</b> int64</label>"
            ]
          },
          "metadata": {},
          "execution_count": 4
        }
      ]
    },
    {
      "cell_type": "code",
      "source": [
        "mean_value = customers[\"TransactionCounts\"].mean()\n",
        "customers[\"TransactionCounts\"].fillna(mean_value, inplace=True)"
      ],
      "metadata": {
        "colab": {
          "base_uri": "https://localhost:8080/"
        },
        "id": "zGUNn7Ll8Fu1",
        "outputId": "495339e9-c290-499d-b3a3-fa7064d9eb42"
      },
      "execution_count": 14,
      "outputs": [
        {
          "output_type": "stream",
          "name": "stderr",
          "text": [
            "<ipython-input-14-9d4979c1087b>:2: FutureWarning: A value is trying to be set on a copy of a DataFrame or Series through chained assignment using an inplace method.\n",
            "The behavior will change in pandas 3.0. This inplace method will never work because the intermediate object on which we are setting values always behaves as a copy.\n",
            "\n",
            "For example, when doing 'df[col].method(value, inplace=True)', try using 'df.method({col: value}, inplace=True)' or df[col] = df[col].method(value) instead, to perform the operation inplace on the original object.\n",
            "\n",
            "\n",
            "  customers[\"TransactionCounts\"].fillna(mean_value, inplace=True)\n"
          ]
        }
      ]
    },
    {
      "cell_type": "code",
      "source": [
        "from sklearn.preprocessing import OneHotEncoder\n",
        "ohe=OneHotEncoder()\n",
        "\n",
        "customerregioncoded=ohe.fit_transform(customers[['Region']])\n",
        "customerregioncoded_df=pd.DataFrame(customerregioncoded.toarray(),columns=ohe.get_feature_names_out(['Region']))\n",
        "customers=pd.concat([customers.drop(['Region'],axis=1),customerregioncoded_df],axis=1)"
      ],
      "metadata": {
        "id": "O0t7wiIm_UUX"
      },
      "execution_count": 15,
      "outputs": []
    },
    {
      "cell_type": "code",
      "source": [
        "from typing import final\n",
        "from sklearn.preprocessing import StandardScaler\n",
        "from sklearn.cluster import KMeans\n",
        "from sklearn.metrics import silhouette_score, davies_bouldin_score\n",
        "import matplotlib.pyplot as plt\n",
        "clusteringdata=customers.drop(columns=['CustomerID','SignupDate','CustomerName'])\n",
        "scaler=StandardScaler()\n",
        "scaleddata=scaler.fit_transform(clusteringdata)\n",
        "dbiscore=[]\n",
        "silhouette=[]\n",
        "for nclusters in range(2,11):\n",
        "    kmeans=KMeans(n_clusters=nclusters,random_state=42)\n",
        "\n",
        "    labels=kmeans.fit_predict(scaleddata)\n",
        "    dbiscore.append(davies_bouldin_score(scaleddata,labels))\n",
        "    silhouette.append(silhouette_score(scaleddata,labels))\n",
        "\n",
        "optimalclusters=2+dbiscore.index(min(dbiscore))\n",
        "finalkmeans=KMeans(n_clusters=optimalclusters,random_state=42)\n",
        "finallabels=finalkmeans.fit_predict(scaleddata)\n",
        "\n",
        "plt.figure(figsize=(10, 5))\n",
        "plt.plot(range(2, 11), dbiscore, marker='o', label='DB Index')\n",
        "plt.plot(range(2, 11), silhouette, marker='s', label='Silhouette Score')\n",
        "plt.xticks(range(2, 11))\n",
        "plt.xlabel('Number of Clusters')\n",
        "plt.ylabel('Score')\n",
        "plt.title('Clustering Metrics (DBI & Silhouette Score)')\n",
        "plt.legend()\n",
        "plt.show()\n",
        "\n",
        "\n",
        "customers['Cluster']=finallabels\n",
        "optimalclusters\n",
        "min(dbiscore)"
      ],
      "metadata": {
        "colab": {
          "base_uri": "https://localhost:8080/",
          "height": 505
        },
        "id": "qsotbABR8Hdf",
        "outputId": "b5493c52-5937-4507-db55-e121dcc5ec5a"
      },
      "execution_count": 17,
      "outputs": [
        {
          "output_type": "display_data",
          "data": {
            "text/plain": [
              "<Figure size 1000x500 with 1 Axes>"
            ],
            "image/png": "[encoded data removed]"
          },
          "metadata": {}
        },
        {
          "output_type": "execute_result",
          "data": {
            "text/plain": [
              "0.6986222099019839"
            ]
          },
          "metadata": {},
          "execution_count": 17
        }
      ]
    }
  ]
}